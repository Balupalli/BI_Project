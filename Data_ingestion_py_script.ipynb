{
 "cells": [
  {
   "cell_type": "code",
   "execution_count": 2,
   "metadata": {},
   "outputs": [],
   "source": [
    "# Importing required modules\n",
    "import pandas as pd\n",
    "import pyodbc as odbc;"
   ]
  },
  {
   "cell_type": "markdown",
   "metadata": {},
   "source": [
    "Enable variables for connecting to server\n",
    "1. since we are using windows authentication in sql server Trusted_connection would enable connection\n",
    "2. if wanted to connect to different sql server then use username and password"
   ]
  },
  {
   "cell_type": "code",
   "execution_count": 12,
   "metadata": {},
   "outputs": [],
   "source": [
    "\"\"\"Connects to a SQL database using pyodbc\"\"\"\n",
    "SERVER = 'DESKTOP-5B73FCQ'\n",
    "DATABASE = 'Sales'\n",
    "USERNAME = 'DESKTOP-5B73FCQ\\Sai Prakash'\n",
    "PASSWORD = 'bannubittu'\n",
    "Trusted_connection ='yes'"
   ]
  },
  {
   "cell_type": "code",
   "execution_count": 13,
   "metadata": {},
   "outputs": [],
   "source": [
    "connectionString = f'DRIVER={{ODBC Driver 17 for SQL Server}};SERVER={SERVER};DATABASE={DATABASE};Trusted_connection={Trusted_connection}'"
   ]
  },
  {
   "cell_type": "code",
   "execution_count": 14,
   "metadata": {},
   "outputs": [],
   "source": [
    "#create a connection varibale to store connection to sql server\n",
    "conn = odbc.connect(connectionString)"
   ]
  },
  {
   "cell_type": "code",
   "execution_count": 15,
   "metadata": {},
   "outputs": [],
   "source": [
    "cursor= conn.cursor()"
   ]
  },
  {
   "cell_type": "code",
   "execution_count": 23,
   "metadata": {},
   "outputs": [],
   "source": [
    "sql_query=\"\"\"select * from Sales.dbo.Transactions\n",
    "where TransactionID=1;\n",
    "             \"\"\""
   ]
  },
  {
   "cell_type": "code",
   "execution_count": 28,
   "metadata": {},
   "outputs": [
    {
     "data": {
      "text/plain": [
       "<pyodbc.Cursor at 0x228d77a84b0>"
      ]
     },
     "execution_count": 28,
     "metadata": {},
     "output_type": "execute_result"
    }
   ],
   "source": [
    "#use cursor.execute() to retrieve result against the database\n",
    "cursor.execute(sql_query)"
   ]
  },
  {
   "cell_type": "code",
   "execution_count": 29,
   "metadata": {},
   "outputs": [
    {
     "name": "stdout",
     "output_type": "stream",
     "text": [
      "1\t2023-01-01\t07:06:11\t2\t5\t32\t3.0\t6.0\n"
     ]
    }
   ],
   "source": [
    "#retrive executed result set using fetchall() and print\n",
    "records = cursor.fetchall()\n",
    "for r in records:\n",
    "    print(f\"{r.TransactionID}\\t{r.TransactionDate}\\t{r.TransactionTime}\\t{r.Quantity}\\t{r.StoreID}\\t{r.ProductID}\\t{r.UnitPrice}\\t{r.Revenue}\")\n"
   ]
  },
  {
   "cell_type": "code",
   "execution_count": null,
   "metadata": {},
   "outputs": [],
   "source": []
  }
 ],
 "metadata": {
  "kernelspec": {
   "display_name": "Python 3",
   "language": "python",
   "name": "python3"
  },
  "language_info": {
   "codemirror_mode": {
    "name": "ipython",
    "version": 3
   },
   "file_extension": ".py",
   "mimetype": "text/x-python",
   "name": "python",
   "nbconvert_exporter": "python",
   "pygments_lexer": "ipython3",
   "version": "3.10.1"
  }
 },
 "nbformat": 4,
 "nbformat_minor": 2
}
